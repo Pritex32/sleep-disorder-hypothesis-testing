{
 "cells": [
  {
   "cell_type": "code",
   "execution_count": 148,
   "id": "13e43bdc-cfe5-4bb7-bc36-fa8b1a6004bc",
   "metadata": {},
   "outputs": [
    {
     "ename": "NameError",
     "evalue": "name 'warning' is not defined",
     "output_type": "error",
     "traceback": [
      "\u001b[1;31m---------------------------------------------------------------------------\u001b[0m",
      "\u001b[1;31mNameError\u001b[0m                                 Traceback (most recent call last)",
      "Cell \u001b[1;32mIn[148], line 6\u001b[0m\n\u001b[0;32m      4\u001b[0m \u001b[38;5;28;01mimport\u001b[39;00m \u001b[38;5;21;01mnumpy\u001b[39;00m \u001b[38;5;28;01mas\u001b[39;00m \u001b[38;5;21;01mnp\u001b[39;00m\n\u001b[0;32m      5\u001b[0m \u001b[38;5;28;01mimport\u001b[39;00m \u001b[38;5;21;01mwarnings\u001b[39;00m\n\u001b[1;32m----> 6\u001b[0m \u001b[43mwarning\u001b[49m \u001b[38;5;241m.\u001b[39mfilterwarnings(\u001b[38;5;124m'\u001b[39m\u001b[38;5;124mignore\u001b[39m\u001b[38;5;124m'\u001b[39m)\n",
      "\u001b[1;31mNameError\u001b[0m: name 'warning' is not defined"
     ]
    }
   ],
   "source": [
    "import pandas as pd\n",
    "import matplotlib.pyplot as plt\n",
    "import seaborn as sns\n",
    "import numpy as np\n",
    "import warnings\n",
    "warning .filterwarnings('ignore')"
   ]
  },
  {
   "cell_type": "code",
   "execution_count": 3,
   "id": "51091c4f-264b-453c-b132-508f290b8818",
   "metadata": {},
   "outputs": [],
   "source": [
    "df=pd.read_csv(r'C:\\Users\\USER\\Documents\\dataset\\Sleep_health_and_lifestyle_dataset.csv')"
   ]
  },
  {
   "cell_type": "raw",
   "id": "7075341b-b688-479d-a7fb-8a65a204ada0",
   "metadata": {},
   "source": [
    "project details:\n",
    "The Sleep Health and Lifestyle Dataset comprises 400 rows and 13 columns, covering a wide range of variables related to sleep and daily habits. It includes details such as gender, age, occupation, sleep duration, quality of sleep, physical activity level, stress levels, BMI category, blood pressure, heart rate, daily steps, and the presence or absence of sleep disorders.\n",
    "\n",
    "Key Features of the Dataset:\r",
    "Comprehensive Sleep Metrics: Explore sleep duration, quality, and factors influencing sleep patterns\n",
    "Lifestyle Factors: Analyze physical activity levels, stress levels, and BMI categories\r\n",
    "Cardiovascular Health: Examine blood pressure and heart rate measuremnts#.\r\n",
    "Sleep Disorder Analysis: Identify the occurrence of sleep disorders such as Insomnia and Sle\n",
    "p\n",
    "# Dataset Col# \n",
    "Person ID: An identifier for each indivi\n",
    "# \r\n",
    "Gender: The gender of the person (Male/ale)## .\r\n",
    "Age: The age of the pe## s.\r\n",
    "Occupation: The occupation or professio# on.\r\n",
    "Sleep Duration (hours): The number of hours the person s per r ### day.\r\n",
    "Quality of Sleep (scale: 1-10): A subjective rating of the quality of sleep, rangio 1 t### o 10.\r\n",
    "Physical Activity Level (minutes/day): The number of minutes the person engages in pacthysicaity ### daily.\r\n",
    "Stress Level (scale: 1-10): A subjective rating of the stress level experienced by the persfon, rrom 1###  to 10.\r\n",
    "BMI Category: The BMI category of the person (e.g., Underweighrl, Over### weight).\r\n",
    "Blood Pressure (systolic/diastolic): The blood pressure measurement of the person, indicated as systoli# pressure.\r\n",
    "Heart Rate (bpm): The resting heart rate of the p beats p### er minute.\r\n",
    "Daily Steps: The number of steerson tak### es per day.\r\n",
    "Sleep Disorder: The presence or absence of a sleep disorder in the person (somnia, Sl### eep As abouta).\r\n",
    "\r\n",
    "Detout Sleep Dis## order Column:\r\n",
    "\r\n",
    "None: The individual does ncit any specific###  sleep disorder.\r\n",
    "Insomnia: The individual experiences difficulty falling asleep or staying asleep, leadnadequate or po### or-quality sleep.\r\n",
    "Sleep Apnea: The individual suffers from pauses in breathing during sleep, resulting in disrupted sleep patterns and potential health risks.nea."
   ]
  },
  {
   "cell_type": "code",
   "execution_count": 4,
   "id": "edcea3d0-3b8b-4752-a632-7ea8c61337a0",
   "metadata": {},
   "outputs": [
    {
     "data": {
      "text/html": [
       "<div>\n",
       "<style scoped>\n",
       "    .dataframe tbody tr th:only-of-type {\n",
       "        vertical-align: middle;\n",
       "    }\n",
       "\n",
       "    .dataframe tbody tr th {\n",
       "        vertical-align: top;\n",
       "    }\n",
       "\n",
       "    .dataframe thead th {\n",
       "        text-align: right;\n",
       "    }\n",
       "</style>\n",
       "<table border=\"1\" class=\"dataframe\">\n",
       "  <thead>\n",
       "    <tr style=\"text-align: right;\">\n",
       "      <th></th>\n",
       "      <th>Person ID</th>\n",
       "      <th>Gender</th>\n",
       "      <th>Age</th>\n",
       "      <th>Occupation</th>\n",
       "      <th>Sleep Duration</th>\n",
       "      <th>Quality of Sleep</th>\n",
       "      <th>Physical Activity Level</th>\n",
       "      <th>Stress Level</th>\n",
       "      <th>BMI Category</th>\n",
       "      <th>Blood Pressure</th>\n",
       "      <th>Heart Rate</th>\n",
       "      <th>Daily Steps</th>\n",
       "      <th>Sleep Disorder</th>\n",
       "    </tr>\n",
       "  </thead>\n",
       "  <tbody>\n",
       "    <tr>\n",
       "      <th>0</th>\n",
       "      <td>1</td>\n",
       "      <td>Male</td>\n",
       "      <td>27</td>\n",
       "      <td>Software Engineer</td>\n",
       "      <td>6.1</td>\n",
       "      <td>6</td>\n",
       "      <td>42</td>\n",
       "      <td>6</td>\n",
       "      <td>Overweight</td>\n",
       "      <td>126/83</td>\n",
       "      <td>77</td>\n",
       "      <td>4200</td>\n",
       "      <td>NaN</td>\n",
       "    </tr>\n",
       "    <tr>\n",
       "      <th>1</th>\n",
       "      <td>2</td>\n",
       "      <td>Male</td>\n",
       "      <td>28</td>\n",
       "      <td>Doctor</td>\n",
       "      <td>6.2</td>\n",
       "      <td>6</td>\n",
       "      <td>60</td>\n",
       "      <td>8</td>\n",
       "      <td>Normal</td>\n",
       "      <td>125/80</td>\n",
       "      <td>75</td>\n",
       "      <td>10000</td>\n",
       "      <td>NaN</td>\n",
       "    </tr>\n",
       "    <tr>\n",
       "      <th>2</th>\n",
       "      <td>3</td>\n",
       "      <td>Male</td>\n",
       "      <td>28</td>\n",
       "      <td>Doctor</td>\n",
       "      <td>6.2</td>\n",
       "      <td>6</td>\n",
       "      <td>60</td>\n",
       "      <td>8</td>\n",
       "      <td>Normal</td>\n",
       "      <td>125/80</td>\n",
       "      <td>75</td>\n",
       "      <td>10000</td>\n",
       "      <td>NaN</td>\n",
       "    </tr>\n",
       "    <tr>\n",
       "      <th>3</th>\n",
       "      <td>4</td>\n",
       "      <td>Male</td>\n",
       "      <td>28</td>\n",
       "      <td>Sales Representative</td>\n",
       "      <td>5.9</td>\n",
       "      <td>4</td>\n",
       "      <td>30</td>\n",
       "      <td>8</td>\n",
       "      <td>Obese</td>\n",
       "      <td>140/90</td>\n",
       "      <td>85</td>\n",
       "      <td>3000</td>\n",
       "      <td>Sleep Apnea</td>\n",
       "    </tr>\n",
       "    <tr>\n",
       "      <th>4</th>\n",
       "      <td>5</td>\n",
       "      <td>Male</td>\n",
       "      <td>28</td>\n",
       "      <td>Sales Representative</td>\n",
       "      <td>5.9</td>\n",
       "      <td>4</td>\n",
       "      <td>30</td>\n",
       "      <td>8</td>\n",
       "      <td>Obese</td>\n",
       "      <td>140/90</td>\n",
       "      <td>85</td>\n",
       "      <td>3000</td>\n",
       "      <td>Sleep Apnea</td>\n",
       "    </tr>\n",
       "  </tbody>\n",
       "</table>\n",
       "</div>"
      ],
      "text/plain": [
       "   Person ID Gender  Age            Occupation  Sleep Duration  \\\n",
       "0          1   Male   27     Software Engineer             6.1   \n",
       "1          2   Male   28                Doctor             6.2   \n",
       "2          3   Male   28                Doctor             6.2   \n",
       "3          4   Male   28  Sales Representative             5.9   \n",
       "4          5   Male   28  Sales Representative             5.9   \n",
       "\n",
       "   Quality of Sleep  Physical Activity Level  Stress Level BMI Category  \\\n",
       "0                 6                       42             6   Overweight   \n",
       "1                 6                       60             8       Normal   \n",
       "2                 6                       60             8       Normal   \n",
       "3                 4                       30             8        Obese   \n",
       "4                 4                       30             8        Obese   \n",
       "\n",
       "  Blood Pressure  Heart Rate  Daily Steps Sleep Disorder  \n",
       "0         126/83          77         4200            NaN  \n",
       "1         125/80          75        10000            NaN  \n",
       "2         125/80          75        10000            NaN  \n",
       "3         140/90          85         3000    Sleep Apnea  \n",
       "4         140/90          85         3000    Sleep Apnea  "
      ]
     },
     "execution_count": 4,
     "metadata": {},
     "output_type": "execute_result"
    }
   ],
   "source": [
    "df.head()"
   ]
  },
  {
   "cell_type": "code",
   "execution_count": 5,
   "id": "9b727fd2-3e44-45dd-ba96-288eb9758154",
   "metadata": {},
   "outputs": [
    {
     "data": {
      "text/plain": [
       "Index(['Person ID', 'Gender', 'Age', 'Occupation', 'Sleep Duration',\n",
       "       'Quality of Sleep', 'Physical Activity Level', 'Stress Level',\n",
       "       'BMI Category', 'Blood Pressure', 'Heart Rate', 'Daily Steps',\n",
       "       'Sleep Disorder'],\n",
       "      dtype='object')"
      ]
     },
     "execution_count": 5,
     "metadata": {},
     "output_type": "execute_result"
    }
   ],
   "source": [
    "df.columns"
   ]
  },
  {
   "cell_type": "code",
   "execution_count": 6,
   "id": "bd991bed-6999-4062-b314-664a2f241e83",
   "metadata": {},
   "outputs": [
    {
     "data": {
      "text/plain": [
       "Person ID                    0\n",
       "Gender                       0\n",
       "Age                          0\n",
       "Occupation                   0\n",
       "Sleep Duration               0\n",
       "Quality of Sleep             0\n",
       "Physical Activity Level      0\n",
       "Stress Level                 0\n",
       "BMI Category                 0\n",
       "Blood Pressure               0\n",
       "Heart Rate                   0\n",
       "Daily Steps                  0\n",
       "Sleep Disorder             219\n",
       "dtype: int64"
      ]
     },
     "execution_count": 6,
     "metadata": {},
     "output_type": "execute_result"
    }
   ],
   "source": [
    "df.isnull().sum()\n",
    "# checking for missing values"
   ]
  },
  {
   "cell_type": "code",
   "execution_count": 20,
   "id": "6dcce552-7b3d-4754-b276-c22535b96515",
   "metadata": {},
   "outputs": [
    {
     "data": {
      "text/plain": [
       "0"
      ]
     },
     "execution_count": 20,
     "metadata": {},
     "output_type": "execute_result"
    }
   ],
   "source": [
    "df.duplicated().sum()\n",
    "# checking for duplicates"
   ]
  },
  {
   "cell_type": "code",
   "execution_count": 7,
   "id": "fe3a9bc0-6ba6-4934-a808-f2f95831ba60",
   "metadata": {},
   "outputs": [
    {
     "data": {
      "text/plain": [
       "(374, 13)"
      ]
     },
     "execution_count": 7,
     "metadata": {},
     "output_type": "execute_result"
    }
   ],
   "source": [
    "#size of the dataset\n",
    "df.shape"
   ]
  },
  {
   "cell_type": "code",
   "execution_count": 11,
   "id": "ecde6c69-8829-432d-b2b2-48d95ce5d6e1",
   "metadata": {},
   "outputs": [],
   "source": [
    "df_na=df.fillna('unknown',inplace=True)\n",
    "# imputating the missing values"
   ]
  },
  {
   "cell_type": "code",
   "execution_count": 12,
   "id": "e9955465-1cf9-4c06-ad24-37ee68741e3f",
   "metadata": {},
   "outputs": [
    {
     "data": {
      "text/plain": [
       "array(['unknown', 'Sleep Apnea', 'Insomnia'], dtype=object)"
      ]
     },
     "execution_count": 12,
     "metadata": {},
     "output_type": "execute_result"
    }
   ],
   "source": [
    "df['Sleep Disorder'].unique()"
   ]
  },
  {
   "cell_type": "code",
   "execution_count": 18,
   "id": "1ac69b68-a984-466f-9a36-44a3982f26c2",
   "metadata": {},
   "outputs": [
    {
     "data": {
      "text/plain": [
       "<Axes: ylabel='Sleep Disorder'>"
      ]
     },
     "execution_count": 18,
     "metadata": {},
     "output_type": "execute_result"
    },
    {
     "data": {
      "image/png": "[encoded data removed]",
      "text/plain": [
       "<Figure size 640x480 with 1 Axes>"
      ]
     },
     "metadata": {},
     "output_type": "display_data"
    }
   ],
   "source": [
    "# visualizing the target feature\n",
    "sns.barplot(df['Sleep Disorder'],color='yellow')"
   ]
  },
  {
   "cell_type": "code",
   "execution_count": null,
   "id": "6831de1f-4b96-4d4a-aa00-ddd6673bc461",
   "metadata": {},
   "outputs": [],
   "source": []
  },
  {
   "cell_type": "markdown",
   "id": "4ee9fa13-b866-4131-9f5e-52e973884e83",
   "metadata": {},
   "source": [
    "# Hypothesis / statistical testing"
   ]
  },
  {
   "cell_type": "markdown",
   "id": "48bebad6-5094-453f-bb2d-2aa5d96c7f50",
   "metadata": {},
   "source": [
    "### 1) Hypothesis: Sleep apnea is more prevalent in males than in females."
   ]
  },
  {
   "cell_type": "markdown",
   "id": "f44374a1-4bb2-4050-898b-5867f2df64d5",
   "metadata": {},
   "source": [
    "## h0:Sleep apnea is more prevalent in males than in females\n",
    "## h1:Sleep apnea is not more prevalent in males than in females"
   ]
  },
  {
   "cell_type": "code",
   "execution_count": 46,
   "id": "ca381262-2721-404c-9aec-4ebdb1782fcd",
   "metadata": {},
   "outputs": [],
   "source": [
    "apnea_male=df[(df['Gender'] == 'Male') & (df['Sleep Disorder'] == 'Sleep Apnea')].sum()\n",
    "apnea_female=df[(df['Gender'] == 'Female') & (df['Sleep Disorder'] == 'Sleep Apnea')].sum()"
   ]
  },
  {
   "cell_type": "code",
   "execution_count": 52,
   "id": "f7395d20-ab6c-4e7a-8d39-3fda3ebba2a1",
   "metadata": {},
   "outputs": [
    {
     "data": {
      "text/plain": [
       "(13, 13)"
      ]
     },
     "execution_count": 52,
     "metadata": {},
     "output_type": "execute_result"
    }
   ],
   "source": [
    "len(apnea_male),len(apnea_female)"
   ]
  },
  {
   "cell_type": "code",
   "execution_count": 47,
   "id": "98bb0e57-2ec4-40ba-8534-f76180d0897e",
   "metadata": {},
   "outputs": [],
   "source": [
    "from scipy.stats import chi2_contingency"
   ]
  },
  {
   "cell_type": "code",
   "execution_count": 66,
   "id": "08ad9bf3-505c-4708-a523-5d220a181d6a",
   "metadata": {},
   "outputs": [],
   "source": [
    "table=pd.crosstab(apnea_male,apnea_female)"
   ]
  },
  {
   "cell_type": "code",
   "execution_count": 51,
   "id": "ec675bb5-2559-4172-a667-9c16bff87d82",
   "metadata": {},
   "outputs": [
    {
     "name": "stdout",
     "output_type": "stream",
     "text": [
      "156.0 0.23349082351103725\n",
      "yes\n"
     ]
    }
   ],
   "source": [
    "stat,p,dof,expected=chi2_contingency(table)\n",
    "print(stat,p)\n",
    "if p>0.05:\n",
    "    print('yes')\n",
    "else:\n",
    "    print ('no')"
   ]
  },
  {
   "cell_type": "markdown",
   "id": "da9099c0-8789-4332-920e-ca25bd496279",
   "metadata": {},
   "source": [
    "## or"
   ]
  },
  {
   "cell_type": "code",
   "execution_count": 70,
   "id": "2a7ad1fc-1d0c-408b-acea-8799a9efa39f",
   "metadata": {},
   "outputs": [],
   "source": [
    "m=df[df['Gender']=='Male']\n",
    "f=df[df['Gender']=='Female']"
   ]
  },
  {
   "cell_type": "code",
   "execution_count": 71,
   "id": "bf6b709e-dff8-430a-91ba-adca38d0cd36",
   "metadata": {},
   "outputs": [
    {
     "data": {
      "text/plain": [
       "(189, 185)"
      ]
     },
     "execution_count": 71,
     "metadata": {},
     "output_type": "execute_result"
    }
   ],
   "source": [
    "len(m),len(f)"
   ]
  },
  {
   "cell_type": "markdown",
   "id": "6edab69d-4731-4610-9858-78fab5360963",
   "metadata": {},
   "source": [
    "## the sleep apnea is more in males than females"
   ]
  },
  {
   "cell_type": "code",
   "execution_count": null,
   "id": "2d4db5ad-d120-4783-b9ba-543f0e5a07ec",
   "metadata": {},
   "outputs": [],
   "source": []
  },
  {
   "cell_type": "markdown",
   "id": "a2a3abf1-0e25-4daa-af83-89c7a90fd452",
   "metadata": {},
   "source": [
    "## 2) Hypothesis: The prevalence of sleep apnea increases with age."
   ]
  },
  {
   "cell_type": "markdown",
   "id": "42296621-fbb5-469f-98f7-782bf2c4aed5",
   "metadata": {},
   "source": [
    "## h0:The prevalence of sleep apnea increases with age.\n",
    "## h1:The prevalence of sleep apnea does not increase with age."
   ]
  },
  {
   "cell_type": "code",
   "execution_count": 85,
   "id": "94dffef1-346f-4180-9dce-6c868d69141d",
   "metadata": {},
   "outputs": [],
   "source": [
    "slp_apnea=df[df['Sleep Disorder']=='Sleep Apnea'].value_counts()\n",
    "# filtering the apnea variable"
   ]
  },
  {
   "cell_type": "code",
   "execution_count": 80,
   "id": "3f33d500-4027-401a-891c-127dfb6ce1e4",
   "metadata": {},
   "outputs": [],
   "source": [
    "from scipy.stats import ttest_ind"
   ]
  },
  {
   "cell_type": "code",
   "execution_count": 84,
   "id": "54dffd00-a58c-4893-94b2-6806c5dfd76f",
   "metadata": {},
   "outputs": [
    {
     "name": "stdout",
     "output_type": "stream",
     "text": [
      "41.90090562670128 1.9947382102342173e-157\n",
      "no\n"
     ]
    }
   ],
   "source": [
    "stat,p=ttest_ind(df['Age'],slp_apnea)\n",
    "print(stat,p)\n",
    "if p>0.05:\n",
    "    print('yes')\n",
    "else:\n",
    "    print('no')"
   ]
  },
  {
   "cell_type": "markdown",
   "id": "1e1c82f3-c1e0-4a3d-a0ea-280c2cc7509b",
   "metadata": {},
   "source": [
    "## result: the prevalence of sleep apnea does not increase with age."
   ]
  },
  {
   "cell_type": "code",
   "execution_count": null,
   "id": "09b51025-b995-443f-94f3-a8b4580b08e0",
   "metadata": {},
   "outputs": [],
   "source": []
  },
  {
   "cell_type": "markdown",
   "id": "531babb8-2df8-4264-a99f-787e755892bc",
   "metadata": {},
   "source": [
    "## 3) Hypothesis: Individuals in higher BMI categories are more likely to have sleep apnea due to increased fat deposition around the neck and airways."
   ]
  },
  {
   "cell_type": "markdown",
   "id": "5c9cdbbb-1f73-4a64-b701-3018cf1d4220",
   "metadata": {},
   "source": [
    "### h0:Individuals in higher BMI categories are more likely to have sleep apnea due to increased fat deposition around the neck and airways\n",
    "### h1:Individuals in higher BMI categories are not likely to have sleep apnea due to increased fat deposition around the neck and airways"
   ]
  },
  {
   "cell_type": "code",
   "execution_count": 87,
   "id": "d4f505c5-d85a-4d3e-9ee6-651b1a2760c6",
   "metadata": {},
   "outputs": [
    {
     "data": {
      "text/plain": [
       "<Axes: ylabel='BMI Category'>"
      ]
     },
     "execution_count": 87,
     "metadata": {},
     "output_type": "execute_result"
    },
    {
     "data": {
      "image/png": "[encoded data removed]",
      "text/plain": [
       "<Figure size 640x480 with 1 Axes>"
      ]
     },
     "metadata": {},
     "output_type": "display_data"
    }
   ],
   "source": [
    "sns.barplot(df['BMI Category'])"
   ]
  },
  {
   "cell_type": "code",
   "execution_count": 96,
   "id": "069c1094-ea26-4560-b6c6-8da5cc6229f7",
   "metadata": {},
   "outputs": [],
   "source": [
    "over=df[(df['BMI Category']=='Overweight')& (df['Sleep Disorder']== 'Sleep Apnea')].value_counts()\n",
    "normal=df[(df['BMI Category']=='Normal')& (df['Sleep Disorder']== 'Sleep Apnea')].value_counts()\n",
    "nor_w=df[(df['BMI Category']=='Normal Weight')& (df['Sleep Disorder']== 'Sleep Apnea')].value_counts()\n",
    "obese=df[(df['BMI Category']=='Obese')& (df['Sleep Disorder']== 'Sleep Apnea')].value_counts()"
   ]
  },
  {
   "cell_type": "code",
   "execution_count": 108,
   "id": "b5972122-4bd0-47d6-bb39-f61e2d2316a1",
   "metadata": {},
   "outputs": [],
   "source": [
    "over=df[df['BMI Category']=='Overweight'].value_counts()\n",
    "s=df[df['Sleep Disorder']== 'Sleep Apnea'].value_counts()"
   ]
  },
  {
   "cell_type": "code",
   "execution_count": 110,
   "id": "bb938cb1-ff36-444e-9e22-022880d32f2c",
   "metadata": {},
   "outputs": [
    {
     "data": {
      "text/html": [
       "<div>\n",
       "<style scoped>\n",
       "    .dataframe tbody tr th:only-of-type {\n",
       "        vertical-align: middle;\n",
       "    }\n",
       "\n",
       "    .dataframe tbody tr th {\n",
       "        vertical-align: top;\n",
       "    }\n",
       "\n",
       "    .dataframe thead th {\n",
       "        text-align: right;\n",
       "    }\n",
       "</style>\n",
       "<table border=\"1\" class=\"dataframe\">\n",
       "  <thead>\n",
       "    <tr style=\"text-align: right;\">\n",
       "      <th>count</th>\n",
       "      <th>1</th>\n",
       "    </tr>\n",
       "    <tr>\n",
       "      <th>count</th>\n",
       "      <th></th>\n",
       "    </tr>\n",
       "  </thead>\n",
       "  <tbody>\n",
       "    <tr>\n",
       "      <th>1</th>\n",
       "      <td>65</td>\n",
       "    </tr>\n",
       "  </tbody>\n",
       "</table>\n",
       "</div>"
      ],
      "text/plain": [
       "count   1\n",
       "count    \n",
       "1      65"
      ]
     },
     "execution_count": 110,
     "metadata": {},
     "output_type": "execute_result"
    }
   ],
   "source": [
    "t=pd.crosstab(over,s)\n",
    "t"
   ]
  },
  {
   "cell_type": "code",
   "execution_count": 113,
   "id": "03bc85bc-c15e-4498-892d-48ea6e086e01",
   "metadata": {},
   "outputs": [
    {
     "name": "stdout",
     "output_type": "stream",
     "text": [
      "0.0 1.0\n",
      "yes\n"
     ]
    }
   ],
   "source": [
    "stat,p,dot,expected=chi2_contingency(t)\n",
    "print(stat,p)\n",
    "if p>0.05:\n",
    "    print('yes')\n",
    "else:\n",
    "    print('no')"
   ]
  },
  {
   "cell_type": "markdown",
   "id": "5eed1deb-0343-45e4-9039-9234ebf36538",
   "metadata": {},
   "source": [
    "## Results: individuals in higher BMI categories are more likely to have sleep apnea due to increased fat deposition around the neck and airways"
   ]
  },
  {
   "cell_type": "code",
   "execution_count": null,
   "id": "8083938d-192e-4e71-a6cb-d9dfc84acbb5",
   "metadata": {},
   "outputs": [],
   "source": []
  },
  {
   "cell_type": "markdown",
   "id": "888adb77-6c73-4d0e-95f5-d5a373329e2a",
   "metadata": {},
   "source": [
    "# 4) Hypothesis: Higher stress levels are associated with a greater likelihood of sleep apnea due to its impact on overall health and sleep quality."
   ]
  },
  {
   "cell_type": "markdown",
   "id": "2469ee58-2274-4c84-a8fb-8abe2d280524",
   "metadata": {},
   "source": [
    "### h0:Higher stress levels are associated with a greater likelihood of sleep apnea due to its impact on overall health and sleep quality\n",
    "### h1:Higher stress levels are not associated with a greater likelihood of sleep apnea due to its impact on overall health and sleep quality"
   ]
  },
  {
   "cell_type": "code",
   "execution_count": null,
   "id": "f02ddaef-9c3b-49a4-979a-5ce88c26ffcf",
   "metadata": {},
   "outputs": [],
   "source": []
  },
  {
   "cell_type": "code",
   "execution_count": 121,
   "id": "4472372a-e1ec-47ab-be31-d851fe1e86e9",
   "metadata": {},
   "outputs": [
    {
     "data": {
      "text/plain": [
       "array([6, 8, 7, 4, 3, 5], dtype=int64)"
      ]
     },
     "execution_count": 121,
     "metadata": {},
     "output_type": "execute_result"
    }
   ],
   "source": [
    "df['Stress Level'].unique()"
   ]
  },
  {
   "cell_type": "code",
   "execution_count": 123,
   "id": "e69e5206-908b-411e-a72a-739f27af7181",
   "metadata": {},
   "outputs": [],
   "source": [
    "slpp=df[df['Sleep Disorder']=='Sleep Apnea'].value_counts()"
   ]
  },
  {
   "cell_type": "code",
   "execution_count": 124,
   "id": "2a189056-71f2-4872-b93b-92b8f2aa89b0",
   "metadata": {},
   "outputs": [
    {
     "name": "stdout",
     "output_type": "stream",
     "text": [
      "-21.804970137505492 1.8259976549208138e-72\n",
      "no\n"
     ]
    },
    {
     "name": "stderr",
     "output_type": "stream",
     "text": [
      "C:\\Users\\USER\\anaconda3\\anaconda4\\envs\\tensorr\\lib\\site-packages\\scipy\\stats\\_axis_nan_policy.py:531: RuntimeWarning: Precision loss occurred in moment calculation due to catastrophic cancellation. This occurs when the data are nearly identical. Results may be unreliable.\n",
      "  res = hypotest_fun_out(*samples, **kwds)\n"
     ]
    }
   ],
   "source": [
    "stat,p=ttest_ind(slpp,df['Stress Level'])\n",
    "print(stat,p)\n",
    "if p>0.05:\n",
    "    print('yes')\n",
    "else:\n",
    "    print('no')"
   ]
  },
  {
   "cell_type": "markdown",
   "id": "09cf4f0b-035f-4257-8202-3d91aa3f113d",
   "metadata": {},
   "source": [
    "## Result: Higher stress levels are not associated with a greater likelihood of sleep apnea due to its impact on overall health and sleep quality"
   ]
  },
  {
   "cell_type": "code",
   "execution_count": null,
   "id": "d651661d-217f-4583-99c1-9eac9f9aca61",
   "metadata": {},
   "outputs": [],
   "source": []
  },
  {
   "cell_type": "markdown",
   "id": "60f46a57-870c-44ac-b974-d0fdbf594a32",
   "metadata": {},
   "source": [
    "# 5) Hypothesis: Gender has a significant effect on the average sleep duration of individuals."
   ]
  },
  {
   "cell_type": "markdown",
   "id": "60a1fa61-31bc-42d7-8cd1-5d7a1ee77b9d",
   "metadata": {},
   "source": [
    "### h0:Gender has a significant effect on the average sleep duration of individuals.\n",
    "### h1: Gender has no significant effect on the average sleep duration of individuals."
   ]
  },
  {
   "cell_type": "code",
   "execution_count": 130,
   "id": "e55fc1a3-e253-4f54-895f-df89a3599be5",
   "metadata": {},
   "outputs": [],
   "source": [
    "male_sleep_duration = df[df['Gender'] == 'Male']['Sleep Duration']\n",
    "female_sleep_duration = df[df['Gender'] == 'Female']['Sleep Duration']"
   ]
  },
  {
   "cell_type": "code",
   "execution_count": 131,
   "id": "cb3a2f9c-c69d-4579-8228-e09311afbfd0",
   "metadata": {},
   "outputs": [
    {
     "name": "stdout",
     "output_type": "stream",
     "text": [
      "-2.3624469898393397 0.018668859270607456\n",
      "no\n"
     ]
    }
   ],
   "source": [
    "stat,p=ttest_ind(male_sleep_duration,female_sleep_duration)\n",
    "print(stat,p)\n",
    "if p>0.05:\n",
    "    print('yes')\n",
    "else:\n",
    "    print('no')"
   ]
  },
  {
   "cell_type": "markdown",
   "id": "ffed468a-d05f-46fd-ad16-157ba9db2fe4",
   "metadata": {},
   "source": [
    "## Result: Gender has no significant effect on the average sleep duration of individuals."
   ]
  },
  {
   "cell_type": "code",
   "execution_count": null,
   "id": "3ce63fd4-37f0-4efe-982a-e69e4e3e8571",
   "metadata": {},
   "outputs": [],
   "source": []
  },
  {
   "cell_type": "markdown",
   "id": "2defbce5-2dd5-4b08-b5d2-eb3a39c78883",
   "metadata": {},
   "source": [
    "# 6) Hypothesis: Quality of sleep decreases with age due to physiological changes and lifestyle factors."
   ]
  },
  {
   "cell_type": "markdown",
   "id": "474e430d-4eae-4846-91c6-f5541a05831d",
   "metadata": {},
   "source": [
    "### h0:Quality of sleep decreases with age due to physiological changes and lifestyle factors.\n",
    "### h1:Quality of sleep does not decreases with age due to physiological changes and lifestyle factors."
   ]
  },
  {
   "cell_type": "code",
   "execution_count": 133,
   "id": "c66e7636-3af5-4017-8db8-c1678a9c5254",
   "metadata": {},
   "outputs": [],
   "source": [
    "from scipy .stats import pearsonr"
   ]
  },
  {
   "cell_type": "code",
   "execution_count": 135,
   "id": "2a95d91e-4e7f-4d5c-909a-831ccaad1514",
   "metadata": {},
   "outputs": [
    {
     "name": "stdout",
     "output_type": "stream",
     "text": [
      "0.4737338761619899 2.55311918230214e-22\n",
      "no\n"
     ]
    }
   ],
   "source": [
    "stat,p=pearsonr(df['Quality of Sleep'],df['Age'])\n",
    "print(stat,p)\n",
    "if p>0.05:\n",
    "    print ('yes')\n",
    "else:\n",
    "    print('no')"
   ]
  },
  {
   "cell_type": "markdown",
   "id": "cd743162-a4e9-44ef-905d-b9149792e5f2",
   "metadata": {},
   "source": [
    "## Result: Quality of sleep does not decreases with age due to physiological changes and lifestyle factors."
   ]
  },
  {
   "cell_type": "code",
   "execution_count": null,
   "id": "54450d36-7039-4db0-b297-65199aaeb9ee",
   "metadata": {},
   "outputs": [],
   "source": []
  },
  {
   "cell_type": "markdown",
   "id": "04a73f69-e298-4038-9d46-398d3a53efe4",
   "metadata": {},
   "source": [
    "# 7) Hypothesis: Longer sleep durations are associated with better quality of sleep."
   ]
  },
  {
   "cell_type": "markdown",
   "id": "0fde1d41-d095-4290-b3a8-2e46604118d0",
   "metadata": {},
   "source": [
    "### h0:Longer sleep durations are associated with better quality of sleep.\n",
    "### h1:Longer sleep durations are not  associated with better quality of sleep."
   ]
  },
  {
   "cell_type": "code",
   "execution_count": 137,
   "id": "d9099a21-a3b7-420e-8794-c1cdb5567084",
   "metadata": {},
   "outputs": [
    {
     "name": "stdout",
     "output_type": "stream",
     "text": [
      "0.9999999999999998 0.0\n",
      "no\n"
     ]
    }
   ],
   "source": [
    "stat,p=pearsonr(df['Quality of Sleep'],df['Quality of Sleep'])\n",
    "print(stat,p)\n",
    "if p>0.05:\n",
    "    print('yes')\n",
    "else:\n",
    "    print('no')"
   ]
  },
  {
   "cell_type": "markdown",
   "id": "1b66c736-3858-49e7-af76-4b30dedb670d",
   "metadata": {},
   "source": [
    "## Result: Longer sleep durations are not associated with better quality of sleep."
   ]
  },
  {
   "cell_type": "code",
   "execution_count": null,
   "id": "fff934bd-5269-42fa-85c4-e91fcd98b38f",
   "metadata": {},
   "outputs": [],
   "source": []
  },
  {
   "cell_type": "markdown",
   "id": "45328fe5-b2e1-43f6-a4b1-9e6bd2d41375",
   "metadata": {},
   "source": [
    "# 8)Hypothesis: Males have higher physical activity levels compared to females on average."
   ]
  },
  {
   "cell_type": "markdown",
   "id": "7d14bd0c-e4c3-4262-b312-1e308db56258",
   "metadata": {},
   "source": [
    "### h0:Males have higher physical activity levels compared to females on average.¶\n",
    "### h1:Males does not have higher physical activity levels compared to females on average.¶"
   ]
  },
  {
   "cell_type": "code",
   "execution_count": 144,
   "id": "4a57d47d-be31-4e9e-a29f-64c4df9afdbb",
   "metadata": {},
   "outputs": [],
   "source": [
    "mean_slp=df[df['Gender']=='Male']['Physical Activity Level'].mean()\n",
    "mean1=df[df['Gender']=='Female']['Physical Activity Level'].mean()"
   ]
  },
  {
   "cell_type": "code",
   "execution_count": 142,
   "id": "b892cf11-4842-411a-8bd9-a29b7495347a",
   "metadata": {},
   "outputs": [
    {
     "name": "stdout",
     "output_type": "stream",
     "text": [
      "nan nan\n",
      "no\n"
     ]
    }
   ],
   "source": [
    "stat,p=ttest_ind(mean_slp,mean1)\n",
    "print(stat,p)\n",
    "if p>0.05:\n",
    "    print('yes')\n",
    "else:\n",
    "    print('no')"
   ]
  },
  {
   "cell_type": "markdown",
   "id": "15f7b79c-b132-4eb3-bc82-37f626fabc89",
   "metadata": {},
   "source": [
    "## Result:Males does not have higher physical activity levels compared to females on average.¶"
   ]
  },
  {
   "cell_type": "code",
   "execution_count": null,
   "id": "c761b627-a02a-43f2-95d9-e3932622e999",
   "metadata": {},
   "outputs": [],
   "source": []
  }
 ],
 "metadata": {
  "kernelspec": {
   "display_name": "Python 3 (ipykernel)",
   "language": "python",
   "name": "python3"
  },
  "language_info": {
   "codemirror_mode": {
    "name": "ipython",
    "version": 3
   },
   "file_extension": ".py",
   "mimetype": "text/x-python",
   "name": "python",
   "nbconvert_exporter": "python",
   "pygments_lexer": "ipython3",
   "version": "3.9.18"
  }
 },
 "nbformat": 4,
 "nbformat_minor": 5
}
